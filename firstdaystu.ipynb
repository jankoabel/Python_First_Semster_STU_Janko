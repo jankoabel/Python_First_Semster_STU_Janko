{
  "nbformat": 4,
  "nbformat_minor": 0,
  "metadata": {
    "colab": {
      "provenance": [],
      "toc_visible": true,
      "authorship_tag": "ABX9TyOybpAUJUDJxMncq3+06/eU",
      "include_colab_link": true
    },
    "kernelspec": {
      "name": "python3",
      "display_name": "Python 3"
    },
    "language_info": {
      "name": "python"
    }
  },
  "cells": [
    {
      "cell_type": "markdown",
      "metadata": {
        "id": "view-in-github",
        "colab_type": "text"
      },
      "source": [
        "<a href=\"https://colab.research.google.com/github/jankoabel/Python_First_Semster_STU_Janko/blob/main/firstdaystu.ipynb\" target=\"_parent\"><img src=\"https://colab.research.google.com/assets/colab-badge.svg\" alt=\"Open In Colab\"/></a>"
      ]
    },
    {
      "cell_type": "code",
      "execution_count": 1,
      "metadata": {
        "id": "e1OLpVfRtshr",
        "outputId": "52897ad7-add4-4d4f-e9c9-499ae5cf913e",
        "colab": {
          "base_uri": "https://localhost:8080/"
        }
      },
      "outputs": [
        {
          "output_type": "stream",
          "name": "stdout",
          "text": [
            "Well done\n"
          ]
        }
      ],
      "source": [
        "def why_amhere(disappear, stucked):\n",
        "  if stucked > disappear:\n",
        "    return \"Bye\"\n",
        "  elif stucked < disappear:\n",
        "    return \"Well done\"\n",
        "\n",
        "  else:\n",
        "    return None\n",
        "\n",
        "what_happened = why_amhere(34, 16)\n",
        "print(what_happened)"
      ]
    }
  ]
}